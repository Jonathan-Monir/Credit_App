{
 "cells": [
  {
   "cell_type": "code",
   "execution_count": 39,
   "metadata": {},
   "outputs": [
    {
     "ename": "ModuleNotFoundError",
     "evalue": "No module named 'Timedelta'",
     "output_type": "error",
     "traceback": [
      "\u001b[1;31m---------------------------------------------------------------------------\u001b[0m",
      "\u001b[1;31mModuleNotFoundError\u001b[0m                       Traceback (most recent call last)",
      "Cell \u001b[1;32mIn[39], line 2\u001b[0m\n\u001b[0;32m      1\u001b[0m \u001b[39mimport\u001b[39;00m \u001b[39mpandas\u001b[39;00m \u001b[39mas\u001b[39;00m \u001b[39mpd\u001b[39;00m\n\u001b[1;32m----> 2\u001b[0m \u001b[39mimport\u001b[39;00m \u001b[39mTimedelta\u001b[39;00m\n",
      "\u001b[1;31mModuleNotFoundError\u001b[0m: No module named 'Timedelta'"
     ]
    },
    {
     "ename": "",
     "evalue": "",
     "output_type": "error",
     "traceback": [
      "\u001b[1;31mThe Kernel crashed while executing code in the the current cell or a previous cell. Please review the code in the cell(s) to identify a possible cause of the failure. Click <a href='https://aka.ms/vscodeJupyterKernelCrash'>here</a> for more info. View Jupyter <a href='command:jupyter.viewOutput'>log</a> for further details."
     ]
    }
   ],
   "source": [
    "import pandas as pd\n",
    "from datetime import timedelta\n"
   ]
  },
  {
   "cell_type": "code",
   "execution_count": 5,
   "metadata": {},
   "outputs": [
    {
     "name": "stderr",
     "output_type": "stream",
     "text": [
      "c:\\Users\\Jonat\\AppData\\Local\\Programs\\Python\\Python310\\lib\\site-packages\\openpyxl\\worksheet\\_reader.py:329: UserWarning: Data Validation extension is not supported and will be removed\n",
      "  warn(msg)\n"
     ]
    }
   ],
   "source": [
    "statment = pd.read_excel(\"test files\\\\0909 - Copy.xlsx\",sheet_name='statment')\n",
    "con = pd.read_excel(\"test files\\\\0909 - Copy.xlsx\",sheet_name= \"contract\")"
   ]
  },
  {
   "cell_type": "code",
   "execution_count": 36,
   "metadata": {},
   "outputs": [
    {
     "data": {
      "text/html": [
       "<div>\n",
       "<style scoped>\n",
       "    .dataframe tbody tr th:only-of-type {\n",
       "        vertical-align: middle;\n",
       "    }\n",
       "\n",
       "    .dataframe tbody tr th {\n",
       "        vertical-align: top;\n",
       "    }\n",
       "\n",
       "    .dataframe thead th {\n",
       "        text-align: right;\n",
       "    }\n",
       "</style>\n",
       "<table border=\"1\" class=\"dataframe\">\n",
       "  <thead>\n",
       "    <tr style=\"text-align: right;\">\n",
       "      <th></th>\n",
       "      <th>Arrival</th>\n",
       "      <th>Departure</th>\n",
       "      <th>Rate_Code</th>\n",
       "    </tr>\n",
       "  </thead>\n",
       "  <tbody>\n",
       "    <tr>\n",
       "      <th>0</th>\n",
       "      <td>2023-05-05</td>\n",
       "      <td>2023-07-11</td>\n",
       "      <td>DBL - STD - GV</td>\n",
       "    </tr>\n",
       "  </tbody>\n",
       "</table>\n",
       "</div>"
      ],
      "text/plain": [
       "     Arrival  Departure       Rate_Code\n",
       "0 2023-05-05 2023-07-11  DBL - STD - GV"
      ]
     },
     "execution_count": 36,
     "metadata": {},
     "output_type": "execute_result"
    }
   ],
   "source": [
    "Arrival = pd.to_datetime(\"5/05/2023\",dayfirst=True)\n",
    "Departure = pd.to_datetime(\"11/07/2023\",dayfirst=True)\n",
    "rate_code = \"DBL - STD - GV\"\n",
    "data = {'Arrival': [Arrival], 'Departure': [Departure], 'Rate_Code': [rate_code]}\n",
    "cell = pd.DataFrame(data)\n",
    "cell"
   ]
  },
  {
   "cell_type": "code",
   "execution_count": 38,
   "metadata": {},
   "outputs": [
    {
     "ename": "NameError",
     "evalue": "name 'Timedela' is not defined",
     "output_type": "error",
     "traceback": [
      "\u001b[1;31m---------------------------------------------------------------------------\u001b[0m",
      "\u001b[1;31mNameError\u001b[0m                                 Traceback (most recent call last)",
      "Cell \u001b[1;32mIn[38], line 20\u001b[0m\n\u001b[0;32m     18\u001b[0m     date_range[\u001b[39m'\u001b[39m\u001b[39msecond date\u001b[39m\u001b[39m'\u001b[39m]\u001b[39m.\u001b[39miloc[\u001b[39m-\u001b[39m\u001b[39m1\u001b[39m] \u001b[39m=\u001b[39m dep\n\u001b[0;32m     19\u001b[0m     \u001b[39mprint\u001b[39m(date_range)\n\u001b[1;32m---> 20\u001b[0m invoice_cost(con,cell)\n",
      "Cell \u001b[1;32mIn[38], line 6\u001b[0m, in \u001b[0;36minvoice_cost\u001b[1;34m(invoice, cell)\u001b[0m\n\u001b[0;32m      3\u001b[0m end_date \u001b[39m=\u001b[39m invoice[\u001b[39m'\u001b[39m\u001b[39msecond date\u001b[39m\u001b[39m'\u001b[39m]\u001b[39m.\u001b[39miloc[\u001b[39m-\u001b[39m\u001b[39m1\u001b[39m]\n\u001b[0;32m      5\u001b[0m arr \u001b[39m=\u001b[39m cell[\u001b[39m'\u001b[39m\u001b[39mArrival\u001b[39m\u001b[39m'\u001b[39m][\u001b[39m0\u001b[39m]\n\u001b[1;32m----> 6\u001b[0m dep \u001b[39m=\u001b[39m cell[\u001b[39m'\u001b[39m\u001b[39mDeparture\u001b[39m\u001b[39m'\u001b[39m][\u001b[39m0\u001b[39m] \u001b[39m-\u001b[39m Timedela(\u001b[39m1\u001b[39m)\n\u001b[0;32m      7\u001b[0m code \u001b[39m=\u001b[39m cell[\u001b[39m'\u001b[39m\u001b[39mRate_Code\u001b[39m\u001b[39m'\u001b[39m]\n\u001b[0;32m      9\u001b[0m \u001b[39mif\u001b[39;00m begin_date \u001b[39m>\u001b[39m arr:\n",
      "\u001b[1;31mNameError\u001b[0m: name 'Timedela' is not defined"
     ]
    }
   ],
   "source": [
    "def invoice_cost(invoice,cell):\n",
    "    begin_date = invoice['first date'].iloc[0]\n",
    "    end_date = invoice['second date'].iloc[-1]\n",
    "    \n",
    "    arr = cell['Arrival'][0]\n",
    "    dep = cell['Departure'][0] - Timedela(1)\n",
    "    code = cell['Rate_Code']\n",
    "\n",
    "    if begin_date > arr:\n",
    "        arr = begin_date\n",
    "    if end_date < dep:\n",
    "        dep = end_date\n",
    "    \n",
    "    date_range = con[(arr<=con[\"second date\"]) & (dep>=con[\"first date\"])]\n",
    "    print(date_range)\n",
    "    \n",
    "    date_range['first date'].iloc[0] = arr\n",
    "    date_range['second date'].iloc[-1] = dep\n",
    "    print(date_range)\n",
    "invoice_cost(con,cell)"
   ]
  }
 ],
 "metadata": {
  "kernelspec": {
   "display_name": "Python 3",
   "language": "python",
   "name": "python3"
  },
  "language_info": {
   "codemirror_mode": {
    "name": "ipython",
    "version": 3
   },
   "file_extension": ".py",
   "mimetype": "text/x-python",
   "name": "python",
   "nbconvert_exporter": "python",
   "pygments_lexer": "ipython3",
   "version": "3.10.9"
  },
  "orig_nbformat": 4
 },
 "nbformat": 4,
 "nbformat_minor": 2
}
